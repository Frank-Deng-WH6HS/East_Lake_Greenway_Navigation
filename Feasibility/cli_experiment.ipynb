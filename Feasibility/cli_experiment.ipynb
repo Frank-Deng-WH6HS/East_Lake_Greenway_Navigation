{
 "cells": [
  {
   "cell_type": "code",
   "execution_count": 1,
   "metadata": {},
   "outputs": [],
   "source": [
    "from cmd import Cmd; "
   ]
  },
  {
   "cell_type": "code",
   "execution_count": null,
   "metadata": {},
   "outputs": [],
   "source": [
    "#最简单的命令行对话功能\n",
    "class cli(Cmd):\n",
    "    \n",
    "    intro = \"欢迎使用ELGW-GIS, 东湖绿道游客地理信息系统. \"\n",
    "    \n",
    "    def emptyline(self): \n",
    "        pass; \n",
    "    \n",
    "    prompt = \"ELGW-GIS: \"; \n",
    "    elgw = {\"磨山\", \"森林\", \"湖山\", \"湖中\", \"白马\", \"听涛\", \"郊野\", \"书香\"}; \n",
    "    \n",
    "    def do_whereis(self, arg):\n",
    "        if arg[0: 2] in self.elgw and arg[2: ] == \"道\": \n",
    "            print(f'欢迎前往东湖绿道∙{arg}观光! '); \n",
    "        else: \n",
    "            print(f'很抱歉, 东湖绿道中不存在\\\"{arg}\\\"这一路段! '); \n",
    "\n",
    "    def do_quit(self, arg):\n",
    "        print(\"感谢使用ELGW-GIS, 再见! \")\n",
    "        return True\n",
    "    \n",
    "\n",
    "if __name__ == \"__main__\":\n",
    "    cli().cmdloop()"
   ]
  },
  {
   "cell_type": "code",
   "execution_count": null,
   "metadata": {},
   "outputs": [],
   "source": []
  }
 ],
 "metadata": {
  "kernelspec": {
   "display_name": "Python 3 (QGIS)",
   "language": "python",
   "name": "open_source_gis_x64"
  },
  "language_info": {
   "codemirror_mode": {
    "name": "ipython",
    "version": 3
   },
   "file_extension": ".py",
   "mimetype": "text/x-python",
   "name": "python",
   "nbconvert_exporter": "python",
   "pygments_lexer": "ipython3",
   "version": "3.7.0"
  }
 },
 "nbformat": 4,
 "nbformat_minor": 4
}
