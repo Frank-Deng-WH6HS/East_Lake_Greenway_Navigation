{
 "cells": [
  {
   "cell_type": "markdown",
   "metadata": {},
   "source": [
    "# `shapely`对矢量数据的处理(1) 构造, 度量与拓补"
   ]
  },
  {
   "cell_type": "code",
   "execution_count": 1,
   "metadata": {},
   "outputs": [],
   "source": [
    "import shapely; \n",
    "import shapely.geometry as shplgeo, shapely.ops as shplops; "
   ]
  },
  {
   "cell_type": "markdown",
   "metadata": {},
   "source": [
    "## `shapely.geometry`中的几何图形对象"
   ]
  },
  {
   "cell_type": "markdown",
   "metadata": {},
   "source": [
    "### 单点(`Point`)和多点(`MultiPoint`)对象\n",
    "构造方法\n",
    "* 单点或多点对象通过声明每个点在**直角坐标系**中的坐标得到\n",
    "    * 因此, 如果需要使用`shapely`处理GIS中的矢量数据, 需要**为数据指定适当的投影坐标系**\n",
    "* 多点对象可通过不同的单点对象取并集(联合叠置分析)得到"
   ]
  },
  {
   "cell_type": "code",
   "execution_count": 2,
   "metadata": {},
   "outputs": [
    {
     "name": "stdout",
     "output_type": "stream",
     "text": [
      "POINT (1 0) POINT (0 1) POINT (0 0)\n",
      "MULTIPOINT (1 0, 0 1, 0 0)\n"
     ]
    },
    {
     "data": {
      "image/svg+xml": [
       "<svg xmlns=\"http://www.w3.org/2000/svg\" xmlns:xlink=\"http://www.w3.org/1999/xlink\" width=\"100.0\" height=\"100.0\" viewBox=\"-0.04 -0.04 1.08 1.08\" preserveAspectRatio=\"xMinYMin meet\"><g transform=\"matrix(1,0,0,-1,0,1.0)\"><g><circle cx=\"1.0\" cy=\"0.0\" r=\"0.0324\" stroke=\"#555555\" stroke-width=\"0.0108\" fill=\"#66cc99\" opacity=\"0.6\" /><circle cx=\"0.0\" cy=\"1.0\" r=\"0.0324\" stroke=\"#555555\" stroke-width=\"0.0108\" fill=\"#66cc99\" opacity=\"0.6\" /><circle cx=\"0.0\" cy=\"0.0\" r=\"0.0324\" stroke=\"#555555\" stroke-width=\"0.0108\" fill=\"#66cc99\" opacity=\"0.6\" /></g></g></svg>"
      ],
      "text/plain": [
       "<shapely.geometry.multipoint.MultiPoint at 0x5e220f0>"
      ]
     },
     "execution_count": 2,
     "metadata": {},
     "output_type": "execute_result"
    }
   ],
   "source": [
    "#定义三角形ΔABC的三个顶点, 显然C是直角顶点\n",
    "vertex_coord = ((1, 0), (0, 1), (0, 0)); \n",
    "A, B, C = tuple(shplgeo.Point(x, y) for x, y in vertex_coord); \n",
    "verteces = shplgeo.multipoint.MultiPoint(vertex_coord); \n",
    "print(A, B, C); print(verteces); \n",
    "verteces"
   ]
  },
  {
   "cell_type": "markdown",
   "metadata": {},
   "source": [
    "多点对象的有序性\n",
    "* 打乱多点对象中点的先后顺序构造新的多点对象后: \n",
    "    * 新对象与原对象使用`==`进行比较将返回`False`, \n",
    "    * 但如调用`equals`方法, 则返回`True`. "
   ]
  },
  {
   "cell_type": "code",
   "execution_count": 3,
   "metadata": {},
   "outputs": [
    {
     "name": "stdout",
     "output_type": "stream",
     "text": [
      "False\n",
      "False\n",
      "True\n"
     ]
    }
   ],
   "source": [
    "print(A.union(B).union(C) == verteces); \n",
    "print(A.union(C).union(B) == verteces); \n",
    "print(A.union(C).union(B).equals(verteces)); "
   ]
  },
  {
   "cell_type": "markdown",
   "metadata": {},
   "source": [
    "### 折线(`Linestring`)和闭合折线(`LinearRing`)对象\n",
    "构造方法\n",
    "* 通过声明其**顺次连接**的每个点的坐标得到\n",
    "* 根据多点对象转换得到\n",
    "* 如果要求`LineString`折线闭合, 需要将首个点的信息复制并添加至坐标序列尾部"
   ]
  },
  {
   "cell_type": "code",
   "execution_count": 4,
   "metadata": {},
   "outputs": [
    {
     "name": "stdout",
     "output_type": "stream",
     "text": [
      "LINESTRING (1 0, 0 1, 0 0)\n",
      "LINESTRING (1 0, 0 0, 0 1)\n",
      "LINEARRING (1 0, 0 1, 0 0, 1 0)\n"
     ]
    }
   ],
   "source": [
    "multiSegABC = shplgeo.LineString(verteces); #此时得到的折线ABC仅包含线段AB和BC\n",
    "multiSegACB = shplgeo.LineString(\n",
    "    tuple(verteces[idx] for idx in (0, 2, 1))\n",
    ");  #此时得到的折线ACB仅包含线段AC和CB, 因为是按照A, C, B的顺序取顶点组成tuple\n",
    "closedSegABC = shplgeo.LinearRing(verteces); \n",
    "print(multiSegABC, multiSegACB, closedSegABC, sep='\\n'); "
   ]
  },
  {
   "cell_type": "markdown",
   "metadata": {},
   "source": [
    "### 多边形(`polygon`)对象\n",
    "构造方法\n",
    "* 需要指定多边形的外边界, 若多边形内部存在孔洞, 还需要指定内边界\n",
    "* 声明其内, 外边界**顺次连接**的每个点的坐标得到; \n",
    "* 根据多点, 折线对象转换得到; "
   ]
  },
  {
   "cell_type": "markdown",
   "metadata": {},
   "source": [
    "多边形的有效性\n",
    "* 有效的条件: \n",
    "    * 外边界和内边界(如果指定)的顶点数量不少于3个; \n",
    "    * 任何一条边**除端点外的部分**, 不得与其他边存在公共点; \n",
    "    * 多边形除顶点和边以外的部分, 处在同一个连通分支内\n",
    "* 多边形无效时, 部分属性或方法无法正常调用. \n",
    "* 多边形有效与否的状态值可通过`is_valid`属性获取; \n",
    "* 将无效多边形转化为有效多边形的方式, 主要调用`buffer`属性, 并设置缓冲长度为0"
   ]
  },
  {
   "cell_type": "code",
   "execution_count": 5,
   "metadata": {},
   "outputs": [
    {
     "data": {
      "image/svg+xml": [
       "<svg xmlns=\"http://www.w3.org/2000/svg\" xmlns:xlink=\"http://www.w3.org/1999/xlink\" width=\"100.0\" height=\"100.0\" viewBox=\"-0.04 -0.04 1.08 1.08\" preserveAspectRatio=\"xMinYMin meet\"><g transform=\"matrix(1,0,0,-1,0,1.0)\"><path fill-rule=\"evenodd\" fill=\"#66cc99\" stroke=\"#555555\" stroke-width=\"0.0216\" opacity=\"0.6\" d=\"M 1.0,0.0 L 0.0,1.0 L 0.0,0.0 L 1.0,0.0 z\" /></g></svg>"
      ],
      "text/plain": [
       "<shapely.geometry.polygon.Polygon at 0x5e098d0>"
      ]
     },
     "execution_count": 5,
     "metadata": {},
     "output_type": "execute_result"
    }
   ],
   "source": [
    "triangleABC = shplgeo.Polygon(verteces); \n",
    "triangleACB = shplgeo.Polygon(multiSegACB); \n",
    "triangleABC"
   ]
  },
  {
   "cell_type": "markdown",
   "metadata": {},
   "source": [
    "多边形端点的有序性\n",
    "* 与多点, 折线对象类似, 多边形对象的顶点也是有序的\n",
    "    * 但调换多边形的方向, 所得的新多边形面积并不会变号, \\\n",
    "      因为`polygon`对象的`area`属性, 计算的是无向多边形的面积"
   ]
  },
  {
   "cell_type": "code",
   "execution_count": 6,
   "metadata": {},
   "outputs": [
    {
     "name": "stdout",
     "output_type": "stream",
     "text": [
      "False True\n",
      "0.5 0.5\n"
     ]
    }
   ],
   "source": [
    "print(triangleABC == triangleACB, triangleABC.equals(triangleACB))\n",
    "print(triangleABC.area, triangleACB.area)"
   ]
  },
  {
   "cell_type": "markdown",
   "metadata": {},
   "source": [
    "## `shapely.geometry`几何对象的度量特征"
   ]
  },
  {
   "cell_type": "markdown",
   "metadata": {},
   "source": [
    "### 位置信息\n",
    "|方法名称|功能|备注|\n",
    "|:-|:-:|:-|\n",
    "|`coords`|提取几何图形的每个<br>组件的坐标信息||\n",
    "|`centroid`|计算几何中心点||\n",
    "|`bounds`|计算图形各坐标<br>分量的最小(大)值||\n",
    "|`envelope`|计算外接矩形<br>或外接立方体|外接矩形(立方体)的边(棱, 面)<br>平行于坐标轴或坐标平面, <br>可用于提高空间查询效率|\n",
    "|`minimum_rotated`<br>`_rectangle`|计算最小外接<br>矩形(立方体)|长宽(高)比例和长边方向<br>可大致反映图形的形状和朝向|\n",
    "|`convex_hull`|计算最小外接凸<br>多边形或凸多面体|衡量多边形边缘的复杂度|"
   ]
  },
  {
   "cell_type": "code",
   "execution_count": 7,
   "metadata": {},
   "outputs": [],
   "source": [
    "geomt = [verteces, multiSegABC, multiSegACB, triangleABC]; "
   ]
  },
  {
   "cell_type": "code",
   "execution_count": 8,
   "metadata": {},
   "outputs": [
    {
     "name": "stdout",
     "output_type": "stream",
     "text": [
      "(array('d', [0.3333333333333333]), array('d', [0.3333333333333333]))\n",
      "(array('d', [0.29289321881345254]), array('d', [0.5]))\n",
      "(array('d', [0.25]), array('d', [0.25]))\n",
      "(array('d', [0.3333333333333333]), array('d', [0.3333333333333333]))\n"
     ]
    }
   ],
   "source": [
    "geomt_Cent = [shp.centroid for shp in geomt]; \n",
    "[print(shp.coords.xy) for shp in geomt_Cent]; "
   ]
  },
  {
   "cell_type": "code",
   "execution_count": 9,
   "metadata": {},
   "outputs": [],
   "source": [
    "#分别构造上述几何图形的外接矩形, 最小外接矩形, 最小外接凸多边形\n",
    "geomt_Envl = [shp.envelope for shp in geomt]; \n",
    "geomt_RotEnvl = [shp.minimum_rotated_rectangle for shp in geomt]; \n",
    "geomt_Convex = [shp.convex_hull for shp in geomt]; "
   ]
  },
  {
   "cell_type": "code",
   "execution_count": 10,
   "metadata": {},
   "outputs": [
    {
     "data": {
      "image/png": "[encoded data removed]",
      "text/plain": [
       "<Figure size 500x500 with 1 Axes>"
      ]
     },
     "metadata": {},
     "output_type": "display_data"
    }
   ],
   "source": [
    "#绘图比较三种外接多边形的范围\n",
    "import matplotlib.pyplot as plt; \n",
    "plt.subplots(figsize=(5, 5)); \n",
    "for polygon in list(zip(geomt_Envl, geomt_RotEnvl, geomt_Convex))[0]: \n",
    "    x, y = polygon.boundary.xy; \n",
    "    plt.plot(x, y); \n",
    "plt.show(); "
   ]
  },
  {
   "cell_type": "markdown",
   "metadata": {},
   "source": [
    "### 形状信息\n",
    "|方法名称|功能|备注|\n",
    "|:-|:-:|:-|\n",
    "|`is_closed`|判断折线是否闭合|终点与起点重合|\n",
    "|`is_ring`|判断折线是否成环|终点与起点重合, **同时**任何<br>一条边除端点外的部分, 不得<br>与其他边存在公共点|\n",
    "|`booundary`|计算折线的起终点或<br>多边形的所有边界|对于`Point`, `MultiPoint`<br>或`LinearRing`对象, <br>该方法的返回值为不包含<br>任何要素的几何对象|\n",
    "|`exterior`|返回多边形的外部边界||\n",
    "|`interiors`|返回多边形所有<br>孔洞边界的列表||"
   ]
  },
  {
   "cell_type": "code",
   "execution_count": 11,
   "metadata": {},
   "outputs": [],
   "source": [
    "cmplx_Polygon = geomt_Envl[0].union(geomt_RotEnvl[0]); \n",
    "cmplx_Polygon = shplgeo.Polygon(cmplx_Polygon.boundary, \n",
    "    holes=[triangleABC.boundary]); "
   ]
  },
  {
   "cell_type": "code",
   "execution_count": 12,
   "metadata": {},
   "outputs": [
    {
     "name": "stdout",
     "output_type": "stream",
     "text": [
      "MULTILINESTRING ((0 0.9999999999999998, 0 1, 1 1, 1 0, 0.9999999999999998 0, 0.4999999999999999 -0.4999999999999999, 0 0, -0.4999999999999999 0.4999999999999999, 0 0.9999999999999998), (1 0, 0 1, 0 0, 1 0))\n",
      "LINEARRING (0 0.9999999999999998, 0 1, 1 1, 1 0, 0.9999999999999998 0, 0.4999999999999999 -0.4999999999999999, 0 0, -0.4999999999999999 0.4999999999999999, 0 0.9999999999999998)\n",
      "LINEARRING (1 0, 0 1, 0 0, 1 0)\n"
     ]
    }
   ],
   "source": [
    "cmplx_bnd = cmplx_Polygon.boundary; \n",
    "cmplx_ext = cmplx_Polygon.exterior; \n",
    "cmplx_int = cmplx_Polygon.interiors[0]; \n",
    "print(cmplx_bnd, cmplx_ext, cmplx_int, sep='\\n'); "
   ]
  },
  {
   "cell_type": "markdown",
   "metadata": {},
   "source": [
    "### 大小信息\n",
    "|方法名称|功能|备注|\n",
    "|:-|:-:|:-|\n",
    "|`length`|计算折线或多边形<br>边界的全长|对于`Point`或`MultiPoint`对象, <br>该方法的返回值始终为0. |\n",
    "|`area`|计算多边形的面积|对于`Point`, `MultiPoint`, <br>`LineString`或`LinearRing`对象, <br>该方法的返回值始终为0. |"
   ]
  },
  {
   "cell_type": "code",
   "execution_count": 13,
   "metadata": {},
   "outputs": [
    {
     "name": "stdout",
     "output_type": "stream",
     "text": [
      "0.0\t0.0\n",
      "2.41421\t0.0\n",
      "3.41421\t0.5\n"
     ]
    }
   ],
   "source": [
    "import decimal as deci; from decimal import Decimal; \n",
    "deci.setcontext(deci.Context(prec=6, rounding=deci.ROUND_HALF_EVEN)); \n",
    "[print(Decimal(str(shp.length)).fma(1, 0), \n",
    "    Decimal(str(shp.area)).fma(1, 0), \n",
    "    sep='\\t') \\\n",
    "    for shp in (A, multiSegABC, triangleABC)];"
   ]
  },
  {
   "cell_type": "code",
   "execution_count": 14,
   "metadata": {},
   "outputs": [
    {
     "data": {
      "text/plain": [
       "0.7071067811865476"
      ]
     },
     "execution_count": 14,
     "metadata": {},
     "output_type": "execute_result"
    }
   ],
   "source": [
    "shplgeo.LineString([[1, 0], [0, 1]]).project(C)"
   ]
  },
  {
   "cell_type": "markdown",
   "metadata": {},
   "source": [
    "### 距离信息\n",
    "|方法名称|功能|备注|\n",
    "|:-|:-:|:-|\n",
    "|`distance`|计算几何图形中<br>各点到另一图形<br>距离的最小值||\n",
    "|`shapely.ops`<br>`.nearest_point`|计算两个几何图形间, <br>距离最小的一组点|E返回的点的顺序与其<br>所在的几何图形在函数<br>调用时的顺序一致|\n",
    "|`hausdorff_distance`|计算几何图形中<br>各点到另一图形<br>距离的最大值||\n",
    "\n",
    "\n",
    "* 点到图形距离被定义为到目标图形中所有点Euclidean距离中的最小值\n",
    "* 如综合使用缓冲区分析, 叠置分析, 以及邻近点分析功能, 可查询特定路线沿途的POI分布及其距离"
   ]
  },
  {
   "cell_type": "code",
   "execution_count": 15,
   "metadata": {},
   "outputs": [
    {
     "name": "stdout",
     "output_type": "stream",
     "text": [
      "0.7071067811865476 POINT (0.5 0.5)\n"
     ]
    }
   ],
   "source": [
    "#计算三角形斜边上的高, 及其垂足\n",
    "edge_AB = shplgeo.LineString([A, B]); \n",
    "hgt_AB = C.distance(edge_AB); \n",
    "foot_hgt_AB = shplops.nearest_points(C, edge_AB)[1]; \n",
    "print(hgt_AB, foot_hgt_AB); "
   ]
  },
  {
   "cell_type": "markdown",
   "metadata": {},
   "source": [
    "## `shapely.geometry`几何对象的拓补关系\n",
    "|方法名称|功能|备注|\n",
    "|:-|:-:|:-|\n",
    "|`shp1.disjoint(shp2)`|相离关系|`shp2`与`shp1`没有任何公共部分|\n",
    "|`shp1.intersects(shp2)`|相交关系|`disjoint`关系的反义: <br>`shp2`与`shp1`有公共部分|\n",
    "|`shp1.touches(shp2)`|邻接关系|`intersects`的特殊情况: <br>`shp2`与`shp1`有公共部分, <br>且全部位于二者的边界内|\n",
    "|`shp1.crosses(shp2)`|相交关系|`intersects`的特殊情况: <br>`shp2`与`shp1`有公共部分, 但不与`shp1`<br>或`shp2`重合, 其维数为二者中较大者减一|\n",
    "|`shp1.overlaps(shp2)`|相交关系|`intersects`的特殊情况: <br>`shp2`与`shp1`有公共部分, 但不与`shp1`<br>或`shp2`重合, 且三者的维数均相同|\n",
    "|`shp1.covers(shp2)`<br>`shp2.covered_by(shp1)`|包含关系|`intersects`的特殊情况: <br>`shp2`的所有点全部位于`shp1`的内部或边界|\n",
    "|`shp1.contains(shp2)`<br>`shp2.within(shp1)`|包含关系|`covers` / `covered_by`的特殊情况: <br>`intersects`的特殊情况: <br>`shp2`的所有点全部位于`shp1`的内部或边界, <br>且`shp2`的内部点部分位于`shp1`的内部|\n",
    "|`shp1.equals(shp2)`|相等关系|`contains` / `within`的特殊情况: <br>`shp2`与`shp1`完全重合, <br>对图形中各部分顺序和组合方式不作要求|\n",
    "|`shp1.equals_exact(shp2)`|相等关系|`equals`的特殊情况: <br>`shp2`与`shp1`完全重合, <br>且图形中各部分顺序和组合方式一致|"
   ]
  },
  {
   "cell_type": "code",
   "execution_count": 16,
   "metadata": {},
   "outputs": [
    {
     "name": "stdout",
     "output_type": "stream",
     "text": [
      "disjoint\tTrue\tFalse\tFalse\tFalse\tFalse\tFalse\n",
      "intersects\tFalse\tTrue\tTrue\tTrue\tTrue\tTrue\n",
      "touches\t\tFalse\tTrue\tFalse\tFalse\tFalse\tFalse\n",
      "crosses\t\tFalse\tFalse\tTrue\tFalse\tFalse\tFalse\n",
      "overlaps\tFalse\tFalse\tFalse\tTrue\tFalse\tFalse\n",
      "covers\t\tFalse\tFalse\tFalse\tFalse\tTrue\tTrue\n",
      "contains\tFalse\tFalse\tFalse\tFalse\tTrue\tTrue\n",
      "equals\t\tFalse\tFalse\tFalse\tFalse\tFalse\tTrue\n"
     ]
    }
   ],
   "source": [
    "#分析不同图形之间的拓补关系\n",
    "ls_topo_rel = ['disjoint', 'intersects', 'touches\\t', 'crosses\\t', 'overlaps', \\\n",
    "    'covers\\t', 'contains', 'equals\\t']; \n",
    "for mem_topo_rel in ls_topo_rel: \n",
    "    topo_rel = mem_topo_rel.strip(); \n",
    "    print(\n",
    "        mem_topo_rel, \n",
    "        eval(f'C.{topo_rel}(edge_AB)'), \n",
    "        eval(f'C.{topo_rel}(triangleABC)'), \n",
    "        eval(f'multiSegABC.{topo_rel}(geomt_RotEnvl[0])'), \n",
    "        eval(f'geomt_RotEnvl[0].{topo_rel}(triangleABC)'), \n",
    "        eval(f'geomt_Envl[0].{topo_rel}(triangleABC)'), \n",
    "        eval(f'geomt_Convex[0].{topo_rel}(triangleABC)'), \n",
    "        sep='\\t'\n",
    "    )"
   ]
  }
 ],
 "metadata": {
  "kernelspec": {
   "display_name": "Python 3 (QGIS)",
   "language": "python",
   "name": "open_source_gis_x64"
  },
  "language_info": {
   "codemirror_mode": {
    "name": "ipython",
    "version": 3
   },
   "file_extension": ".py",
   "mimetype": "text/x-python",
   "name": "python",
   "nbconvert_exporter": "python",
   "pygments_lexer": "ipython3",
   "version": "3.7.0"
  }
 },
 "nbformat": 4,
 "nbformat_minor": 4
}
