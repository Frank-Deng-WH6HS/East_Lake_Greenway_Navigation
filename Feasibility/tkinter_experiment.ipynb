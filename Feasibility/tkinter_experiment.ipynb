{
 "cells": [
  {
   "cell_type": "code",
   "execution_count": 35,
   "metadata": {},
   "outputs": [],
   "source": [
    "import tkinter as tk; \n",
    "import tkintermapview as tkmvw; "
   ]
  },
  {
   "cell_type": "code",
   "execution_count": 36,
   "metadata": {},
   "outputs": [],
   "source": [
    "#初始化窗口\n",
    "wnd_main = tk.Tk(); \n",
    "wnd_main.title(\"Sample GUI\"); \n",
    "wnd_main.geometry(\"800x600\"); "
   ]
  },
  {
   "cell_type": "code",
   "execution_count": 37,
   "metadata": {},
   "outputs": [],
   "source": [
    "#添加顶端菜单栏\n",
    "mnu_main_top = tk.Menu(wnd_main); \n",
    "wnd_main.config(menu = mnu_main_top); \n",
    "mnu_main_File = tk.Menu(wnd_main); \n",
    "mnu_main_top.add_cascade(label = \"File\", menu = mnu_main_File)"
   ]
  },
  {
   "cell_type": "code",
   "execution_count": 38,
   "metadata": {},
   "outputs": [],
   "source": [
    "#添加地图界面\n",
    "#禁用联网加载底图瓦片服务(将网址设置为\"空白页\")\n",
    "#警告! OpenStreetMap中的部分制图要素, 不符合中国现行法律法规\n",
    "map_main_geo = tkmvw.TkinterMapView(wnd_main, width=800, height=600); \n",
    "map_main_geo.set_tile_server(\"about:blank\"); \n",
    "map_main_geo.set_position(30.5706, 114.3898); \n",
    "map_main_geo.pack();"
   ]
  },
  {
   "cell_type": "code",
   "execution_count": null,
   "metadata": {},
   "outputs": [],
   "source": [
    "wnd_main.mainloop(); "
   ]
  },
  {
   "cell_type": "code",
   "execution_count": null,
   "metadata": {},
   "outputs": [],
   "source": []
  }
 ],
 "metadata": {
  "kernelspec": {
   "display_name": "Python 3 (QGIS)",
   "language": "python",
   "name": "open_source_gis_x64"
  },
  "language_info": {
   "codemirror_mode": {
    "name": "ipython",
    "version": 3
   },
   "file_extension": ".py",
   "mimetype": "text/x-python",
   "name": "python",
   "nbconvert_exporter": "python",
   "pygments_lexer": "ipython3",
   "version": "3.7.0"
  }
 },
 "nbformat": 4,
 "nbformat_minor": 4
}
