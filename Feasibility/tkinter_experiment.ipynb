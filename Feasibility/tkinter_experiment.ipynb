{
 "cells": [
  {
   "cell_type": "code",
   "execution_count": 1,
   "metadata": {},
   "outputs": [],
   "source": [
    "#操作目录和文件\n",
    "import os; nb_dir = os.getcwd(); \n",
    "#导入shp\n",
    "import shapefile as shpf; \n",
    "#处理几何信息\n",
    "import shapely; \n",
    "import shapely.geometry as shplgeo, shapely.affinity as shplaffin; \n",
    "import shapely.ops as shplops; \n",
    "#数值计算和函数处理\n",
    "import numpy as np; \n",
    "from functools import partial; \n",
    "#投影变换\n",
    "import pyproj; \n",
    "#用户界面\n",
    "import tkinter as tk; \n",
    "import tkintermapview as tkmvw; "
   ]
  },
  {
   "cell_type": "code",
   "execution_count": 2,
   "metadata": {},
   "outputs": [],
   "source": [
    "#初始化窗口\n",
    "wnd_main = tk.Tk(); \n",
    "wnd_main.title(\"HZAU Path Distribution\"); \n",
    "wnd_main.geometry(\"800x600\"); \n",
    "wnd_main.resizable(width=False, height=False); "
   ]
  },
  {
   "cell_type": "code",
   "execution_count": 3,
   "metadata": {},
   "outputs": [],
   "source": [
    "#添加顶端菜单栏\n",
    "mnu_main_top = tk.Menu(wnd_main); \n",
    "wnd_main.config(menu = mnu_main_top); \n",
    "mnu_main_File = tk.Menu(wnd_main); \n",
    "mnu_main_top.add_cascade(label = \"File\", menu = mnu_main_File)"
   ]
  },
  {
   "cell_type": "code",
   "execution_count": 4,
   "metadata": {},
   "outputs": [],
   "source": [
    "#添加地图界面\n",
    "#禁用联网加载底图瓦片服务(将网址设置为\"空白页\")\n",
    "#警告! OpenStreetMap中的部分制图要素, 不符合中国现行法律法规\n",
    "map_main_geo = tkmvw.TkinterMapView(wnd_main, width=800, height=600); \n",
    "map_main_geo.set_tile_server(\"about:blank\"); \n",
    "map_main_geo.set_position(30.475, 114.35); \n",
    "map_main_geo.min_zoom = 15; map_main_geo.max_zoom = 19; "
   ]
  },
  {
   "cell_type": "code",
   "execution_count": 5,
   "metadata": {},
   "outputs": [],
   "source": [
    "#导入华中农业大学2022年的道路网(已去除GCJ偏移)\n",
    "HZAU_Path_Minor = shpf.Reader(os.sep.join([nb_dir, \n",
    "    \"HZAU_Path_Minor\", \"Path_Minor_Adj_02_CGCS.shp\"]))\n",
    "HZAU_Path_Minor_shp = tuple(HZAU_Path_Minor.iterShapes());\n",
    "HZAU_Path_Minor_shplgeo = []; \n",
    "HZAU_Path_Minor_shplenvl = []; \n",
    "for sgm in HZAU_Path_Minor_shp: \n",
    "    sgm_shplgeo = shplgeo.LineString(sgm.points); \n",
    "    HZAU_Path_Minor_shplgeo.append(sgm_shplgeo); \n",
    "    HZAU_Path_Minor_shplenvl.append(sgm_shplgeo.envelope); "
   ]
  },
  {
   "cell_type": "code",
   "execution_count": 6,
   "metadata": {},
   "outputs": [],
   "source": [
    "#获取地图界面当前显示区域的最小, 最大经纬度\n",
    "def get_boundary_latlon(mapview: tkmvw.map_widget.TkinterMapView):\n",
    "    ymin, xmin = mapview.convert_canvas_coords_to_decimal_coords(\n",
    "        0, mapview.height); \n",
    "    ymax, xmax = mapview.convert_canvas_coords_to_decimal_coords(\n",
    "        mapview.width, 0); \n",
    "    return(xmin, ymin, xmax, ymax); "
   ]
  },
  {
   "cell_type": "code",
   "execution_count": 7,
   "metadata": {},
   "outputs": [],
   "source": [
    "#更新绘制结果\n",
    "def redraw_annotation(event, mapview: tkmvw.map_widget.TkinterMapView, \n",
    "    geoms, envls = None): \n",
    "    #擦除原来绘制的路网\n",
    "    mapview.delete_all_path(); \n",
    "    #计算地图界面当前的显示范围\n",
    "    xmin, ymin, xmax, ymax = get_boundary_latlon(mapview); \n",
    "    visible_region = shplgeo.box(xmin, ymin, xmax, ymax); \n",
    "    if envls == None: \n",
    "        envls = [sgm_shplgeo.envelope for sgm_shplgeo in geoms]; \n",
    "    tolerance = abs(xmax - xmin + (ymax - ymin) * 1j) / 500; \n",
    "    for sgm_shplgeo, envl in zip(geoms, envls): \n",
    "        #目标路段外接矩形与显示区域相交, 是路段部分位于显示区域内的必要不充分条件\n",
    "        if envl.intersects(visible_region): \n",
    "            #使用地图当前的显示范围对路段进行裁剪\n",
    "            geoms_clipped = shplops.clip_by_rect(\n",
    "                sgm_shplgeo, xmin, ymin, xmax, ymax\n",
    "            ); \n",
    "            #将路段裁剪后的每一部分按照折线上点的顺序绘制在地图界面上\n",
    "            if isinstance(geoms_clipped, shplgeo.linestring.LineString): \n",
    "                geoms_clipped = shplgeo.MultiLineString([geoms_clipped]); \n",
    "            elif isinstance(geoms_clipped, shplgeo.point.Point): \n",
    "                geoms_clipped = shplgeo.MultiPoint([geoms_clipped]); \n",
    "            if isinstance(geoms_clipped, shplgeo.multilinestring.MultiLineString): \n",
    "                for part in geoms_clipped: \n",
    "                    x_list, y_list = part.simplify(tolerance).coords.xy; \n",
    "                    mapview.set_path(list(zip(tuple(y_list), tuple(x_list)))); \n",
    "            elif isinstance(geoms_clipped, shplgeo.multipoint.MultiPoint): \n",
    "                for part in geoms_clipped: \n",
    "                    x_list, y_list = part.xy; \n",
    "                    mapview.set_marker(y_list, x_list); "
   ]
  },
  {
   "cell_type": "code",
   "execution_count": 8,
   "metadata": {},
   "outputs": [],
   "source": [
    "#为用户交互事件指定要执行的命令\n",
    "map_main_redraw = partial(redraw_annotation, \n",
    "    mapview=map_main_geo, geoms=HZAU_Path_Minor_shplgeo, \n",
    "    envls=HZAU_Path_Minor_shplenvl); \n",
    "#用户拖拽地图, 或者点击界面上的缩放按钮缩放地图\n",
    "wnd_main.bind(\"<B1-ButtonRelease>\", map_main_redraw); \n",
    "#用户从其他界面切换至当前界面\n",
    "wnd_main.bind(\"<FocusIn>\", map_main_redraw); \n",
    "#用户通过鼠标滚轮缩放地图\n",
    "wnd_main.bind(\"<MouseWheel>\", map_main_redraw); "
   ]
  },
  {
   "cell_type": "code",
   "execution_count": 9,
   "metadata": {},
   "outputs": [],
   "source": [
    "map_main_geo.pack();\n",
    "wnd_main.mainloop(); "
   ]
  }
 ],
 "metadata": {
  "kernelspec": {
   "display_name": "Python 3 (QGIS)",
   "language": "python",
   "name": "open_source_gis_x64"
  },
  "language_info": {
   "codemirror_mode": {
    "name": "ipython",
    "version": 3
   },
   "file_extension": ".py",
   "mimetype": "text/x-python",
   "name": "python",
   "nbconvert_exporter": "python",
   "pygments_lexer": "ipython3",
   "version": "3.7.0"
  }
 },
 "nbformat": 4,
 "nbformat_minor": 4
}
